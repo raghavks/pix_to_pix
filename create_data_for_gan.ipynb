{
 "cells": [
  {
   "cell_type": "code",
   "execution_count": 5,
   "metadata": {},
   "outputs": [],
   "source": [
    "import cv2\n",
    "import os\n",
    "import numpy as np\n",
    "from PIL import Image"
   ]
  },
  {
   "cell_type": "code",
   "execution_count": 2,
   "metadata": {},
   "outputs": [],
   "source": [
    "splits = [\"train\"]\n",
    "#fold_A = r\"C:\\Users\\1603585\\Documents\\Python Scripts\\Aishwarya\\GAN_pix2pix\\pytorch-CycleGAN-and-pix2pix-master\\datasets\\docdata\\test_jj\\\\\"\n",
    "fold_A = r\"/colt/py_stuffs/Raghav/img_aug/multi_font_img/\"\n",
    "fold_B = r\"/colt/py_stuffs/Raghav/img_aug/single_font_img/\"\n",
    "fold_AB = r\"/colt/py_stuffs/Deepa/pix2pix_git/datasets/merged_data/\"\n",
    "use_AB = \"\"\n",
    "num_imgs = 100000"
   ]
  },
  {
   "cell_type": "code",
   "execution_count": 11,
   "metadata": {},
   "outputs": [
    {
     "name": "stdout",
     "output_type": "stream",
     "text": [
      "/colt/py_stuffs/Raghav/img_aug/multi_font_img/\n",
      "split = train, use 500/500 images\n",
      "split = train, number of images = 500\n"
     ]
    }
   ],
   "source": [
    "for sp in splits:\n",
    "    img_fold_A = os.path.join(fold_A)\n",
    "    print(img_fold_A)\n",
    "    img_fold_B = os.path.join(fold_B)\n",
    "    img_list = filter( lambda f: not f.startswith('.'), os.listdir(img_fold_A)) # ignore hidden folders like .DS_Store\n",
    "    img_list = list(img_list)\n",
    "    if use_AB:\n",
    "        print(\"yes\")\n",
    "        img_list = [img_path for img_path in img_list if '_A.' in img_path]\n",
    "\n",
    "    num_imgs = min(num_imgs, len(img_list))\n",
    "    print('split = %s, use %d/%d images' % (sp, num_imgs, len(img_list)))\n",
    "    img_fold_AB = os.path.join(fold_AB, sp)\n",
    "    if not os.path.isdir(img_fold_AB):\n",
    "        os.makedirs(img_fold_AB)\n",
    "    print('split = %s, number of images = %d' % (sp, num_imgs))\n",
    "    for n in range(num_imgs):\n",
    "        name_A = img_list[n]\n",
    "        path_A = os.path.join(img_fold_A, name_A)\n",
    "        if use_AB:\n",
    "            name_B = name_A.replace('_A.', '_B.')\n",
    "        else:\n",
    "            name_B = name_A\n",
    "        path_B = os.path.join(img_fold_B, name_B)\n",
    "        if os.path.isfile(path_A) and os.path.isfile(path_B):\n",
    "            name_AB = name_A\n",
    "            if use_AB:\n",
    "                name_AB = name_AB.replace('_A.', '.') # remove _A\n",
    "            path_AB = os.path.join(img_fold_AB, name_AB)\n",
    "            im_A = cv2.imread(path_A, cv2.IMREAD_COLOR)\n",
    "            #im_A = cv2.resize(im_A,(1280,1536),interpolation = cv2.INTER_CUBIC) \n",
    "            \n",
    "            \n",
    "            im_B = cv2.imread(path_B, cv2.IMREAD_COLOR)\n",
    "            #im_B = cv2.resize(im_B,(1280,1536),interpolation = cv2.INTER_CUBIC) \n",
    "            im_AB = np.concatenate([im_A, im_B], 1)\n",
    "            cv2.imwrite(path_AB,im_AB)\n",
    "\n"
   ]
  },
  {
   "cell_type": "code",
   "execution_count": 13,
   "metadata": {},
   "outputs": [
    {
     "data": {
      "image/png": "[encoded data removed]",
      "text/plain": [
       "<PIL.PngImagePlugin.PngImageFile image mode=RGB size=640x320 at 0x7F4ADBFAD6D8>"
      ]
     },
     "execution_count": 13,
     "metadata": {},
     "output_type": "execute_result"
    }
   ],
   "source": [
    "file = os.listdir(fold_AB+'/train/')[0]\n",
    "Image.open(fold_AB+'/train/'+file)#.size"
   ]
  },
  {
   "cell_type": "markdown",
   "metadata": {
    "collapsed": true
   },
   "source": [
    "##### plot gan graph"
   ]
  },
  {
   "cell_type": "code",
   "execution_count": null,
   "metadata": {
    "collapsed": true
   },
   "outputs": [],
   "source": [
    "import json\n",
    "import ast\n",
    "import matplotlib.pyplot as plt\n",
    "%matplotlib inline"
   ]
  },
  {
   "cell_type": "code",
   "execution_count": null,
   "metadata": {
    "collapsed": true
   },
   "outputs": [],
   "source": [
    "file = open(r\"C:\\Users\\1603585\\Documents\\Python Scripts\\Aishwarya\\GAN_pix2pix\\pytorch-CycleGAN-and-pix2pix-master\\checkpoints\\docdata_pix2pix\\loss_log.txt\")\n",
    "epoch_list = []\n",
    "generator_list = []\n",
    "discriminator_list = []\n",
    "l1_loss = []\n",
    "\n",
    "for line in file:\n",
    "    try:\n",
    "        l_dict = json.loads(json.dumps(ast.literal_eval(line)))\n",
    "    except:\n",
    "        continue\n",
    "    epoch_list.append(l_dict['epoch'])\n",
    "    g_loss = float(l_dict[\"G_GAN\"]) + float(l_dict[\"G_L1\"]) \n",
    "    generator_list.append(g_loss)\n",
    "    l1_loss.append(float(l_dict[\"G_L1\"]))\n",
    "    d_loss = (float(l_dict[\"D_real\"]) + float(l_dict[\"D_fake\"]))*0.5\n",
    "    discriminator_list.append(d_loss)\n",
    "file.close()"
   ]
  },
  {
   "cell_type": "code",
   "execution_count": null,
   "metadata": {},
   "outputs": [],
   "source": [
    "plt.plot(epoch_list, generator_list, 'b-', label='G_loss')\n",
    "# plt.plot(epoch_list, l1_loss, 'b-', label='l1_loss')\n",
    "# plt.plot(epoch_list, discriminator_list, 'r-', label = 'D_loss')\n",
    "plt.legend(loc='upper right')\n",
    "plt.title(\"Comparing G\")\n",
    "plt.xlabel(\"Epochs\")\n",
    "plt.ylabel(\"Loss\")"
   ]
  },
  {
   "cell_type": "code",
   "execution_count": null,
   "metadata": {},
   "outputs": [],
   "source": [
    "plt.plot(epoch_list, discriminator_list, 'r-', label = 'D_loss')\n",
    "plt.legend(loc='upper right')\n",
    "plt.title(\"Comparing G\")\n",
    "plt.xlabel(\"Epochs\")\n",
    "plt.ylabel(\"Loss\")"
   ]
  },
  {
   "cell_type": "code",
   "execution_count": null,
   "metadata": {
    "collapsed": true
   },
   "outputs": [],
   "source": []
  }
 ],
 "metadata": {
  "kernelspec": {
   "display_name": "Python 3",
   "language": "python",
   "name": "python3"
  },
  "language_info": {
   "codemirror_mode": {
    "name": "ipython",
    "version": 3
   },
   "file_extension": ".py",
   "mimetype": "text/x-python",
   "name": "python",
   "nbconvert_exporter": "python",
   "pygments_lexer": "ipython3",
   "version": "3.7.3"
  }
 },
 "nbformat": 4,
 "nbformat_minor": 2
}
